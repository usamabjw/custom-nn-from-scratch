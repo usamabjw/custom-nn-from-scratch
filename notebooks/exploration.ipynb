{
 "cells": [
  {
   "cell_type": "markdown",
   "metadata": {},
   "source": [
    "**Import Libraries**"
   ]
  },
  {
   "cell_type": "code",
   "execution_count": 2,
   "metadata": {},
   "outputs": [],
   "source": [
    "import numpy as np\n",
    "import matplotlib.pyplot as plt\n",
    "\n"
   ]
  },
  {
   "cell_type": "code",
   "execution_count": 7,
   "metadata": {},
   "outputs": [],
   "source": [
    "# Load MNIST dataset (use relative path to go to the 'data' folder from 'notebooks')\n",
    "train_images = np.load('../data/train_images.npy')\n",
    "# .reshape(-1, 28*28).T / 255.0\n",
    "train_labels = np.load('../data/train_labels.npy')\n",
    "test_images = np.load('../data/test_images.npy')\n",
    "# .reshape(-1, 28*28).T / 255.0\n",
    "test_labels = np.load('../data/test_labels.npy')"
   ]
  },
  {
   "cell_type": "markdown",
   "metadata": {},
   "source": [
    "**Visualize Sample Images**"
   ]
  },
  {
   "cell_type": "code",
   "execution_count": 9,
   "metadata": {},
   "outputs": [
    {
     "data": {
      "image/png": "[encoded data removed]",
      "text/plain": [
       "<Figure size 1500x300 with 10 Axes>"
      ]
     },
     "metadata": {},
     "output_type": "display_data"
    }
   ],
   "source": [
    "# Plot 10 sample images with labels\n",
    "fig, axes = plt.subplots(1, 10, figsize=(15, 3))\n",
    "\n",
    "for i, ax in enumerate(axes):\n",
    "    # Reshape each image from 1D array (784,) to 2D array (28, 28)\n",
    "    img = train_images[i].reshape(28, 28)\n",
    "    ax.imshow(img, cmap='gray')\n",
    "    ax.set_title(f\"Label: {train_labels[i]}\")\n",
    "    ax.axis('off')\n",
    "\n",
    "plt.tight_layout()\n",
    "plt.show()\n"
   ]
  },
  {
   "cell_type": "markdown",
   "metadata": {},
   "source": [
    "**Check Dataset Shapes**"
   ]
  },
  {
   "cell_type": "code",
   "execution_count": 10,
   "metadata": {},
   "outputs": [
    {
     "name": "stdout",
     "output_type": "stream",
     "text": [
      "Training images shape: (14000, 784)\n",
      "Training labels shape: (14000,)\n",
      "Test images shape: (56000, 784)\n",
      "Test labels shape: (56000,)\n"
     ]
    }
   ],
   "source": [
    "# Print shapes of datasets\n",
    "print(\"Training images shape:\", train_images.shape)\n",
    "print(\"Training labels shape:\", train_labels.shape)\n",
    "print(\"Test images shape:\", test_images.shape)\n",
    "print(\"Test labels shape:\", test_labels.shape)\n"
   ]
  },
  {
   "cell_type": "markdown",
   "metadata": {},
   "source": [
    "**Normalize the Data**"
   ]
  },
  {
   "cell_type": "code",
   "execution_count": 11,
   "metadata": {},
   "outputs": [
    {
     "name": "stdout",
     "output_type": "stream",
     "text": [
      "Max pixel value (train): 1.0\n",
      "Min pixel value (train): 0.0\n"
     ]
    }
   ],
   "source": [
    "# Normalize the image data\n",
    "train_images = train_images / 255.0\n",
    "test_images = test_images / 255.0\n",
    "\n",
    "# Confirm normalization\n",
    "print(\"Max pixel value (train):\", train_images.max())\n",
    "print(\"Min pixel value (train):\", train_images.min())\n"
   ]
  },
  {
   "cell_type": "markdown",
   "metadata": {},
   "source": [
    "**One-Hot Encode the Labels**"
   ]
  },
  {
   "cell_type": "code",
   "execution_count": 12,
   "metadata": {},
   "outputs": [
    {
     "name": "stdout",
     "output_type": "stream",
     "text": [
      "Training labels (one-hot) shape: (14000, 10)\n",
      "Test labels (one-hot) shape: (56000, 10)\n"
     ]
    }
   ],
   "source": [
    "# One-hot encode labels\n",
    "num_classes = 10\n",
    "train_labels_onehot = np.eye(num_classes)[train_labels]\n",
    "test_labels_onehot = np.eye(num_classes)[test_labels]\n",
    "\n",
    "# Verify shape\n",
    "print(\"Training labels (one-hot) shape:\", train_labels_onehot.shape)\n",
    "print(\"Test labels (one-hot) shape:\", test_labels_onehot.shape)\n"
   ]
  },
  {
   "cell_type": "markdown",
   "metadata": {},
   "source": [
    "**Save Processed Data**"
   ]
  },
  {
   "cell_type": "code",
   "execution_count": 14,
   "metadata": {},
   "outputs": [
    {
     "name": "stdout",
     "output_type": "stream",
     "text": [
      "Processed data saved!\n"
     ]
    }
   ],
   "source": [
    "# Save processed data\n",
    "np.save('../data/train_images_normalized.npy', train_images)\n",
    "np.save('../data/train_labels_onehot.npy', train_labels_onehot)\n",
    "np.save('../data/test_images_normalized.npy', test_images)\n",
    "np.save('../data/test_labels_onehot.npy', test_labels_onehot)\n",
    "\n",
    "print(\"Processed data saved!\")\n"
   ]
  },
  {
   "cell_type": "code",
   "execution_count": null,
   "metadata": {},
   "outputs": [],
   "source": []
  }
 ],
 "metadata": {
  "kernelspec": {
   "display_name": "Python 3",
   "language": "python",
   "name": "python3"
  },
  "language_info": {
   "codemirror_mode": {
    "name": "ipython",
    "version": 3
   },
   "file_extension": ".py",
   "mimetype": "text/x-python",
   "name": "python",
   "nbconvert_exporter": "python",
   "pygments_lexer": "ipython3",
   "version": "3.10.11"
  }
 },
 "nbformat": 4,
 "nbformat_minor": 2
}
